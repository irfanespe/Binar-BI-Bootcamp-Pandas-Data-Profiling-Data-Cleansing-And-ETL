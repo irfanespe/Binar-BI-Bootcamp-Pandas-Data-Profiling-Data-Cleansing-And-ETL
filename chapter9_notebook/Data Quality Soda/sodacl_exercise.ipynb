{
 "cells": [
  {
   "cell_type": "code",
   "execution_count": 3,
   "id": "f4aa8434",
   "metadata": {},
   "outputs": [
    {
     "name": "stderr",
     "output_type": "stream",
     "text": [
      "Setting up usage telemetry.\n"
     ]
    }
   ],
   "source": [
    "# import lib\n",
    "\n",
    "from soda.scan import Scan"
   ]
  },
  {
   "cell_type": "markdown",
   "id": "fe15631d",
   "metadata": {},
   "source": [
    "### Soda CL data quality test"
   ]
  },
  {
   "cell_type": "markdown",
   "id": "007e28fa",
   "metadata": {},
   "source": [
    "Class -> suatu bentuk di programming yang punya fungsi, parameter / variable di dalamnya\n",
    "\n",
    "df = pd.read_csv(blblabla);\n",
    "\n",
    "df.duplicates() -> duplicates -fungsi -> df adalah object\n"
   ]
  },
  {
   "cell_type": "code",
   "execution_count": 86,
   "id": "4d955429",
   "metadata": {
    "scrolled": true
   },
   "outputs": [
    {
     "name": "stderr",
     "output_type": "stream",
     "text": [
      "[14:51:48] Soda Core 3.3.5\n"
     ]
    }
   ],
   "source": [
    "# create object scan\n",
    "scan = Scan()"
   ]
  },
  {
   "cell_type": "code",
   "execution_count": 87,
   "id": "98cc1336",
   "metadata": {},
   "outputs": [],
   "source": [
    "# give connection name\n",
    "scan.set_data_source_name(\"postgresdb\")"
   ]
  },
  {
   "cell_type": "code",
   "execution_count": 88,
   "id": "442fb467",
   "metadata": {},
   "outputs": [],
   "source": [
    "# create connection\n",
    "scan.add_configuration_yaml_file(file_path=\"configuration.yml\")"
   ]
  },
  {
   "cell_type": "code",
   "execution_count": 89,
   "id": "5f0f1a64",
   "metadata": {},
   "outputs": [],
   "source": [
    "# add test / check scenario\n",
    "scan.add_sodacl_yaml_file(\"check.yml\")"
   ]
  },
  {
   "cell_type": "code",
   "execution_count": 90,
   "id": "b70d7c5f",
   "metadata": {},
   "outputs": [
    {
     "name": "stderr",
     "output_type": "stream",
     "text": [
      "[14:51:52] Using DefaultSampler\n",
      "[14:51:52] Using DefaultSampler\n",
      "[14:51:52] Scan summary:\n",
      "[14:51:52] 5/7 checks PASSED: \n",
      "[14:51:52]     orders in postgresdb\n",
      "[14:51:52]       values in (customer_id) must exist in customers (customer_id) [PASSED]\n",
      "[14:51:52]       out_date_range = 0 [PASSED]\n",
      "[14:51:52]       duplicate_count(order_id) = 0 [PASSED]\n",
      "[14:51:52]       missing_count(order_id) = 0 [PASSED]\n",
      "[14:51:52]     shippers in postgresdb\n",
      "[14:51:52]       missing_count(company_name) = 0 [PASSED]\n",
      "[14:51:52] 1/7 checks WARNED: \n",
      "[14:51:52]     orders in postgresdb\n",
      "[14:51:52]       missing_percent(ship_postal_code) warn when between 2% and 5% fail when > 5% [WARNED]\n",
      "[14:51:52]         check_value: 2.6\n",
      "[14:51:52]         row_count: 654\n",
      "[14:51:52]         missing_count: 17\n",
      "[14:51:52] 1/7 checks FAILED: \n",
      "[14:51:52]     shippers in postgresdb\n",
      "[14:51:52]       invalid_count(company_name) = 0 [FAILED]\n",
      "[14:51:52]         check_value: 2\n",
      "[14:51:52] Oops! 1 failure. 1 warning. 0 errors. 5 pass.\n"
     ]
    },
    {
     "name": "stdout",
     "output_type": "stream",
     "text": [
      "2\n"
     ]
    }
   ],
   "source": [
    "# Execute the scan\n",
    "result = scan.execute()\n",
    "print(result)"
   ]
  },
  {
   "cell_type": "code",
   "execution_count": 91,
   "id": "17d6fc04",
   "metadata": {},
   "outputs": [
    {
     "data": {
      "text/plain": [
       "'INFO   | Soda Core 3.3.5\\nINFO   | Using DefaultSampler\\nINFO   | Using DefaultSampler\\nINFO   | Scan summary:\\nINFO   | 5/7 checks PASSED: \\nINFO   |     orders in postgresdb\\nINFO   |       values in (customer_id) must exist in customers (customer_id) [PASSED]\\nINFO   |       out_date_range = 0 [PASSED]\\nINFO   |       duplicate_count(order_id) = 0 [PASSED]\\nINFO   |       missing_count(order_id) = 0 [PASSED]\\nINFO   |     shippers in postgresdb\\nINFO   |       missing_count(company_name) = 0 [PASSED]\\nINFO   | 1/7 checks WARNED: \\nINFO   |     orders in postgresdb\\nINFO   |       missing_percent(ship_postal_code) warn when between 2% and 5% fail when > 5% [WARNED]\\nINFO   |         check_value: 2.6\\nINFO   |         row_count: 654\\nINFO   |         missing_count: 17\\nINFO   | 1/7 checks FAILED: \\nINFO   |     shippers in postgresdb\\nINFO   |       invalid_count(company_name) = 0 [FAILED]\\nINFO   |         check_value: 2\\nINFO   | Oops! 1 failure. 1 warning. 0 errors. 5 pass.'"
      ]
     },
     "execution_count": 91,
     "metadata": {},
     "output_type": "execute_result"
    }
   ],
   "source": [
    "scan.get_logs_text()"
   ]
  },
  {
   "cell_type": "code",
   "execution_count": 101,
   "id": "c99dc071",
   "metadata": {},
   "outputs": [],
   "source": [
    "# create into function for simplicity\n",
    "def execute_check(db_name, check_date, config_dir, check_function_dir):\n",
    "    # create object scan\n",
    "    scan = Scan()\n",
    "    # give connection name\n",
    "    scan.set_data_source_name(db_name)\n",
    "    # add testing / checking date\n",
    "    scan.add_variables({\"checking_date\": check_date})\n",
    "    # create connection\n",
    "    scan.add_configuration_yaml_file(file_path=config_dir)\n",
    "    # add test / check scenario\n",
    "    scan.add_sodacl_yaml_file(check_function_dir)\n",
    "    # Execute the scan\n",
    "    result = scan.execute()\n",
    "    # print(result)\n",
    "    return (scan.get_logs_text())"
   ]
  },
  {
   "cell_type": "code",
   "execution_count": 111,
   "id": "985caaaa",
   "metadata": {},
   "outputs": [
    {
     "name": "stderr",
     "output_type": "stream",
     "text": [
      "[14:59:42] Soda Core 3.3.5\n",
      "[14:59:43] Using DefaultSampler\n",
      "[14:59:43] Using DefaultSampler\n",
      "[14:59:43] Scan summary:\n",
      "[14:59:43] 5/7 checks PASSED: \n",
      "[14:59:43]     orders in postgresdb\n",
      "[14:59:43]       values in (customer_id) must exist in customers (customer_id) [PASSED]\n",
      "[14:59:43]       out_date_range = 0 [PASSED]\n",
      "[14:59:43]       duplicate_count(order_id) = 0 [PASSED]\n",
      "[14:59:43]       missing_count(order_id) = 0 [PASSED]\n",
      "[14:59:43]     shippers in postgresdb\n",
      "[14:59:43]       missing_count(company_name) = 0 [PASSED]\n",
      "[14:59:43] 1/7 checks WARNED: \n",
      "[14:59:43]     orders in postgresdb\n",
      "[14:59:43]       missing_percent(ship_postal_code) warn when between 2% and 5% fail when > 5% [WARNED]\n",
      "[14:59:43]         check_value: 2.6\n",
      "[14:59:43]         row_count: 654\n",
      "[14:59:43]         missing_count: 17\n",
      "[14:59:43] 1/7 checks FAILED: \n",
      "[14:59:43]     shippers in postgresdb\n",
      "[14:59:43]       invalid_count(company_name) = 0 [FAILED]\n",
      "[14:59:43]         check_value: 2\n",
      "[14:59:43] Oops! 1 failure. 1 warning. 0 errors. 5 pass.\n"
     ]
    }
   ],
   "source": [
    "exec_date = \"2024-01-09\"\n",
    "\n",
    "data_test_log =  execute_check(\"postgresdb\", exec_date, \"configuration.yml\", \"check.yml\");"
   ]
  },
  {
   "cell_type": "code",
   "execution_count": 112,
   "id": "f142ed0b",
   "metadata": {},
   "outputs": [],
   "source": [
    "f = open(\"log_checks.txt\", \"a\") # buka file text\n",
    "f.write(\"\\n\")\n",
    "f.write(\"-----------------------------\\n\")\n",
    "f.write(\"Test Log {} \\n\".format(exec_date))\n",
    "f.write(\"-----------------------------\\n\")\n",
    "f.write(data_test_log)\n",
    "f.write(\" \\n\")\n",
    "f.close() # tutup file text"
   ]
  },
  {
   "cell_type": "code",
   "execution_count": null,
   "id": "cd0b17e3",
   "metadata": {},
   "outputs": [],
   "source": []
  }
 ],
 "metadata": {
  "kernelspec": {
   "display_name": "Python 3",
   "language": "python",
   "name": "python3"
  },
  "language_info": {
   "codemirror_mode": {
    "name": "ipython",
    "version": 3
   },
   "file_extension": ".py",
   "mimetype": "text/x-python",
   "name": "python",
   "nbconvert_exporter": "python",
   "pygments_lexer": "ipython3",
   "version": "3.8.8"
  }
 },
 "nbformat": 4,
 "nbformat_minor": 5
}
